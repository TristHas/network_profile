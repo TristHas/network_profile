{
 "cells": [
  {
   "cell_type": "code",
   "execution_count": 24,
   "metadata": {},
   "outputs": [],
   "source": [
    "import torch\n",
    "from torchvision.models import resnet18\n",
    "import matplotlib.pyplot as plt\n",
    "plt.style.use(\"dark_background\")\n",
    "\n",
    "from network_profile import log_memory, t_profile_net\n",
    "%matplotlib inline"
   ]
  },
  {
   "cell_type": "markdown",
   "metadata": {},
   "source": [
    "## Profile"
   ]
  },
  {
   "cell_type": "code",
   "execution_count": 25,
   "metadata": {},
   "outputs": [],
   "source": [
    "model = resnet18().cuda()\n",
    "inp = torch.randn(32, 3, 112, 112).cuda()"
   ]
  },
  {
   "cell_type": "markdown",
   "metadata": {},
   "source": [
    "### Computation profiling"
   ]
  },
  {
   "cell_type": "code",
   "execution_count": 26,
   "metadata": {},
   "outputs": [],
   "source": [
    "data = t_profile_net(model, inp)"
   ]
  },
  {
   "cell_type": "code",
   "execution_count": 27,
   "metadata": {},
   "outputs": [
    {
     "data": {
      "text/html": [
       "<div>\n",
       "<style scoped>\n",
       "    .dataframe tbody tr th:only-of-type {\n",
       "        vertical-align: middle;\n",
       "    }\n",
       "\n",
       "    .dataframe tbody tr th {\n",
       "        vertical-align: top;\n",
       "    }\n",
       "\n",
       "    .dataframe thead th {\n",
       "        text-align: right;\n",
       "    }\n",
       "</style>\n",
       "<table border=\"1\" class=\"dataframe\">\n",
       "  <thead>\n",
       "    <tr style=\"text-align: right;\">\n",
       "      <th></th>\n",
       "      <th>layer</th>\n",
       "      <th>fw_operation</th>\n",
       "      <th>forward_time</th>\n",
       "      <th>forward_effi</th>\n",
       "      <th>bw_operation</th>\n",
       "      <th>backward_time</th>\n",
       "      <th>backward_effi</th>\n",
       "      <th>bw_time/fw_time</th>\n",
       "      <th>input_size</th>\n",
       "      <th>output_size</th>\n",
       "    </tr>\n",
       "  </thead>\n",
       "  <tbody>\n",
       "    <tr>\n",
       "      <th>0</th>\n",
       "      <td>Conv2d</td>\n",
       "      <td>944111616</td>\n",
       "      <td>292.864006</td>\n",
       "      <td>3.223720e+06</td>\n",
       "      <td>1888223232</td>\n",
       "      <td>749.086914</td>\n",
       "      <td>2.520700e+06</td>\n",
       "      <td>2.557798</td>\n",
       "      <td>(32, 3, 112, 112)</td>\n",
       "      <td>(32, 64, 56, 56)</td>\n",
       "    </tr>\n",
       "    <tr>\n",
       "      <th>1</th>\n",
       "      <td>BatchNorm2d</td>\n",
       "      <td>6422528</td>\n",
       "      <td>165.408020</td>\n",
       "      <td>3.882840e+04</td>\n",
       "      <td>6422528</td>\n",
       "      <td>691.232422</td>\n",
       "      <td>9.291416e+03</td>\n",
       "      <td>4.178953</td>\n",
       "      <td>(32, 64, 56, 56)</td>\n",
       "      <td>(32, 64, 56, 56)</td>\n",
       "    </tr>\n",
       "    <tr>\n",
       "      <th>2</th>\n",
       "      <td>ReLU</td>\n",
       "      <td>6422528</td>\n",
       "      <td>165.216064</td>\n",
       "      <td>3.887351e+04</td>\n",
       "      <td>6422528</td>\n",
       "      <td>168.960938</td>\n",
       "      <td>3.801191e+04</td>\n",
       "      <td>1.022667</td>\n",
       "      <td>(32, 64, 56, 56)</td>\n",
       "      <td>(32, 64, 56, 56)</td>\n",
       "    </tr>\n",
       "    <tr>\n",
       "      <th>3</th>\n",
       "      <td>MaxPool2d</td>\n",
       "      <td>6422528</td>\n",
       "      <td>172.031982</td>\n",
       "      <td>3.733334e+04</td>\n",
       "      <td>6422528</td>\n",
       "      <td>690.175781</td>\n",
       "      <td>9.305641e+03</td>\n",
       "      <td>4.011904</td>\n",
       "      <td>(32, 64, 56, 56)</td>\n",
       "      <td>(32, 64, 28, 28)</td>\n",
       "    </tr>\n",
       "    <tr>\n",
       "      <th>4</th>\n",
       "      <td>Conv2d</td>\n",
       "      <td>924844032</td>\n",
       "      <td>180.672119</td>\n",
       "      <td>5.118908e+06</td>\n",
       "      <td>1849688064</td>\n",
       "      <td>1771.519531</td>\n",
       "      <td>1.044125e+06</td>\n",
       "      <td>9.805163</td>\n",
       "      <td>(32, 64, 28, 28)</td>\n",
       "      <td>(32, 64, 28, 28)</td>\n",
       "    </tr>\n",
       "  </tbody>\n",
       "</table>\n",
       "</div>"
      ],
      "text/plain": [
       "         layer  fw_operation  forward_time  forward_effi  bw_operation  \\\n",
       "0       Conv2d     944111616    292.864006  3.223720e+06    1888223232   \n",
       "1  BatchNorm2d       6422528    165.408020  3.882840e+04       6422528   \n",
       "2         ReLU       6422528    165.216064  3.887351e+04       6422528   \n",
       "3    MaxPool2d       6422528    172.031982  3.733334e+04       6422528   \n",
       "4       Conv2d     924844032    180.672119  5.118908e+06    1849688064   \n",
       "\n",
       "   backward_time  backward_effi  bw_time/fw_time         input_size  \\\n",
       "0     749.086914   2.520700e+06         2.557798  (32, 3, 112, 112)   \n",
       "1     691.232422   9.291416e+03         4.178953   (32, 64, 56, 56)   \n",
       "2     168.960938   3.801191e+04         1.022667   (32, 64, 56, 56)   \n",
       "3     690.175781   9.305641e+03         4.011904   (32, 64, 56, 56)   \n",
       "4    1771.519531   1.044125e+06         9.805163   (32, 64, 28, 28)   \n",
       "\n",
       "        output_size  \n",
       "0  (32, 64, 56, 56)  \n",
       "1  (32, 64, 56, 56)  \n",
       "2  (32, 64, 56, 56)  \n",
       "3  (32, 64, 28, 28)  \n",
       "4  (32, 64, 28, 28)  "
      ]
     },
     "execution_count": 27,
     "metadata": {},
     "output_type": "execute_result"
    }
   ],
   "source": [
    "data.head()"
   ]
  },
  {
   "cell_type": "code",
   "execution_count": 28,
   "metadata": {},
   "outputs": [
    {
     "data": {
      "text/plain": [
       "<matplotlib.axes._subplots.AxesSubplot at 0x7fbfa45bf438>"
      ]
     },
     "execution_count": 28,
     "metadata": {},
     "output_type": "execute_result"
    },
    {
     "data": {
      "image/png": "[encoded data removed]",
      "text/plain": [
       "<Figure size 432x288 with 1 Axes>"
      ]
     },
     "metadata": {
      "needs_background": "dark"
     },
     "output_type": "display_data"
    }
   ],
   "source": [
    "# Plot the percentage of fwd time spent in each layer\n",
    "times_fwd = data[\"forward_time\"] / data[\"forward_time\"].sum() *100\n",
    "times_fwd.plot()"
   ]
  },
  {
   "cell_type": "code",
   "execution_count": 29,
   "metadata": {},
   "outputs": [
    {
     "data": {
      "text/plain": [
       "<matplotlib.axes._subplots.AxesSubplot at 0x7fbf288ba9e8>"
      ]
     },
     "execution_count": 29,
     "metadata": {},
     "output_type": "execute_result"
    },
    {
     "data": {
      "image/png": "[encoded data removed]",
      "text/plain": [
       "<Figure size 432x288 with 1 Axes>"
      ]
     },
     "metadata": {
      "needs_background": "dark"
     },
     "output_type": "display_data"
    }
   ],
   "source": [
    "# Plot the percentage of bwd time spent in each layer\n",
    "times_bwd = data[\"backward_time\"] / data[\"backward_time\"].sum() *100\n",
    "times_bwd.plot()"
   ]
  },
  {
   "cell_type": "code",
   "execution_count": 30,
   "metadata": {},
   "outputs": [
    {
     "data": {
      "text/plain": [
       "<matplotlib.axes._subplots.AxesSubplot at 0x7fbf28811a58>"
      ]
     },
     "execution_count": 30,
     "metadata": {},
     "output_type": "execute_result"
    },
    {
     "data": {
      "image/png": "[encoded data removed]",
      "text/plain": [
       "<Figure size 432x288 with 1 Axes>"
      ]
     },
     "metadata": {
      "needs_background": "dark"
     },
     "output_type": "display_data"
    }
   ],
   "source": [
    "# Plot the percentage of total time spent in each layer\n",
    "tot_time = data[\"backward_time\"].sum() + data[\"forward_time\"].sum()\n",
    "times = (data[\"backward_time\"] + data[\"forward_time\"]) / tot_time\n",
    "times.plot()"
   ]
  },
  {
   "cell_type": "markdown",
   "metadata": {},
   "source": [
    "### Memory profiling"
   ]
  },
  {
   "cell_type": "code",
   "execution_count": 31,
   "metadata": {},
   "outputs": [
    {
     "data": {
      "text/plain": [
       "<matplotlib.axes._subplots.AxesSubplot at 0x7fbef1d32be0>"
      ]
     },
     "execution_count": 31,
     "metadata": {},
     "output_type": "execute_result"
    },
    {
     "data": {
      "image/png": "[encoded data removed]",
      "text/plain": [
       "<Figure size 432x288 with 1 Axes>"
      ]
     },
     "metadata": {
      "needs_background": "dark"
     },
     "output_type": "display_data"
    }
   ],
   "source": [
    "mem = log_memory(model, inp)\n",
    "mem[\"mem_all\"].plot()"
   ]
  },
  {
   "cell_type": "code",
   "execution_count": null,
   "metadata": {},
   "outputs": [],
   "source": []
  },
  {
   "cell_type": "code",
   "execution_count": null,
   "metadata": {},
   "outputs": [],
   "source": []
  },
  {
   "cell_type": "code",
   "execution_count": null,
   "metadata": {},
   "outputs": [],
   "source": []
  }
 ],
 "metadata": {
  "kernelspec": {
   "display_name": "Python 3",
   "language": "python",
   "name": "python3"
  },
  "language_info": {
   "codemirror_mode": {
    "name": "ipython",
    "version": 3
   },
   "file_extension": ".py",
   "mimetype": "text/x-python",
   "name": "python",
   "nbconvert_exporter": "python",
   "pygments_lexer": "ipython3",
   "version": "3.7.3"
  }
 },
 "nbformat": 4,
 "nbformat_minor": 2
}
